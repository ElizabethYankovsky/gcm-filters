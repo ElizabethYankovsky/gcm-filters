{
 "cells": [
  {
   "cell_type": "code",
   "execution_count": 2,
   "id": "prime-insulation",
   "metadata": {},
   "outputs": [
    {
     "name": "stdout",
     "output_type": "stream",
     "text": [
      "Once deleted, variables cannot be recovered. Proceed (y/[n])? y\n",
      "ready\n"
     ]
    }
   ],
   "source": [
    "%reset\n",
    "%matplotlib inline\n",
    "import xarray as xr\n",
    "import numpy as np\n",
    "import matplotlib.pyplot as plt\n",
    "import cartopy.crs as ccrs\n",
    "import cmocean\n",
    "import warnings; warnings.filterwarnings('ignore')\n",
    "print('ready')"
   ]
  },
  {
   "cell_type": "code",
   "execution_count": 3,
   "id": "transparent-graduate",
   "metadata": {},
   "outputs": [],
   "source": [
    "grid_data=xr.open_zarr(\"/scratch/ag7531/shareElizabeth/grid_dataforeli\")\n",
    "uv_data  =xr.open_zarr(\"/scratch/ag7531/shareElizabeth/uv_dataforeli\")"
   ]
  },
  {
   "cell_type": "code",
   "execution_count": 4,
   "id": "raising-defendant",
   "metadata": {},
   "outputs": [],
   "source": [
    "#Uncomment to print the uv_data information:\n",
    "#uv_data "
   ]
  },
  {
   "cell_type": "code",
   "execution_count": 5,
   "id": "fifth-puppy",
   "metadata": {},
   "outputs": [],
   "source": [
    "#Uncomment to print the grid_data information:\n",
    "#grid_data"
   ]
  },
  {
   "cell_type": "code",
   "execution_count": 6,
   "id": "operational-america",
   "metadata": {},
   "outputs": [
    {
     "name": "stdout",
     "output_type": "stream",
     "text": [
      "(2700, 3600)\n",
      "finished\n"
     ]
    }
   ],
   "source": [
    "##Reading in surface velocity data and the (xu_ocean, yu_ocean) velocity points:\n",
    "usurf = uv_data.usurf.values[-1,:,:] #Reading in the last time index\n",
    "vsurf = uv_data.vsurf.values[-1,:,:] #Reading in the last time index\n",
    "yu_ocean = grid_data.yu_ocean.values \n",
    "\n",
    "xu_ocean = grid_data.xu_ocean.values\n",
    "\n",
    "##To show that the gridfile and datafile have the same yu and xu definitions:\n",
    "#yu_ocean_datafile = uv_data.yu_ocean.values\n",
    "#xu_ocean_datafile = uv_data.xu_ocean.values\n",
    "#print(np.nanmax(yu_ocean_datafile-yu_ocean)); print(np.nanmax(xu_ocean_datafile-xu_ocean))\n",
    "\n",
    "##Reading in latitude and longitude at velocity points:\n",
    "geolat = grid_data.geolat_c.values\n",
    "geolon = grid_data.geolon_c.values\n",
    "##Reading in the grid spacing for thickness points:\n",
    "dyt = grid_data.dyt.values\n",
    "dxt = grid_data.dxt.values\n",
    "print(usurf.shape)\n",
    "print('finished')"
   ]
  },
  {
   "cell_type": "code",
   "execution_count": 12,
   "id": "empty-fancy",
   "metadata": {},
   "outputs": [
    {
     "name": "stdout",
     "output_type": "stream",
     "text": [
      "(2700, 3600)\n",
      "(2700, 3600)\n",
      "(2700, 3600)\n",
      "(2700, 3600)\n"
     ]
    }
   ],
   "source": [
    "#Preparing the inputs\n",
    "print(usurf.shape)\n",
    "print(dxt.shape)\n",
    "print(dyt.shape)\n",
    "print(mix.shape)"
   ]
  },
  {
   "cell_type": "code",
   "execution_count": 7,
   "id": "golden-pittsburgh",
   "metadata": {},
   "outputs": [],
   "source": [
    "def MOM5_Laplacian(a, dxt, dyt):\n",
    "    #a is the field for which Laplacian is being computed\n",
    "    #dxt is x-direction grid spacing for a t-cell\n",
    "    #dyt is y-direction grid spacing for a t-cell\n",
    "\n",
    "    #Initialize empty arrays for fx, fy (first derivatives), and LAP_U (final Laplacian result)\n",
    "    fx = np.empty(a.shape)\n",
    "    fy = np.empty(a.shape)\n",
    "    LAP_U = np.empty(a.shape)\n",
    "    \n",
    "    for i in range(1,a.shape[0]-1):\n",
    "        for j in range(a.shape[1]):\n",
    "            fx[i,j]=(a[i+1,j]-a[i-1,j])/(dxt[i,j]+dxt[i+1,j])              \n",
    "    print('Computed fx')\n",
    "    for i in range(a.shape[0]):\n",
    "        for j in range(1,a.shape[1]-1):\n",
    "            fy[i,j]=(a[i,j+1]-a[i,j-1])/(dyt[i,j]+dyt[i,j+1]) \n",
    "    print('Computed fy') \n",
    "    for i in range(1,a.shape[0]-1):\n",
    "        for j in range(1,a.shape[1]-1):\n",
    "            LAP_U[i,j]=(fx[i+1,j]-fx[i-1,j])/(dxt[i,j]+dxt[i+1,j])+(fy[i,j+1]-fy[i,j-1])/(dyt[i,j]+dyt[i,j+1])\n",
    "    print('Computed LAP_U')\n",
    "\n",
    "    return LAP_U\n"
   ]
  },
  {
   "cell_type": "code",
   "execution_count": 9,
   "id": "marked-jonathan",
   "metadata": {},
   "outputs": [
    {
     "name": "stdout",
     "output_type": "stream",
     "text": [
      "Computed fx\n",
      "Computed fy\n",
      "Computed LAP_U\n",
      "Computed fx\n",
      "Computed fy\n",
      "Computed LAP_U\n"
     ]
    }
   ],
   "source": [
    "u_laplacian=MOM5_Laplacian(usurf,dxt,dyt)\n",
    "v_laplacian=MOM5_Laplacian(vsurf,dxt,dyt)"
   ]
  },
  {
   "cell_type": "code",
   "execution_count": 10,
   "id": "rental-delicious",
   "metadata": {},
   "outputs": [
    {
     "data": {
      "text/plain": [
       "'/home/eay8226/gcm-filters/notebooks'"
      ]
     },
     "execution_count": 10,
     "metadata": {},
     "output_type": "execute_result"
    }
   ],
   "source": [
    "%pwd"
   ]
  },
  {
   "cell_type": "code",
   "execution_count": 24,
   "id": "inappropriate-private",
   "metadata": {},
   "outputs": [
    {
     "name": "stdout",
     "output_type": "stream",
     "text": [
      "/home/eay8226/gcm-filters/gcm_filters\n",
      "__init__.py  \u001b[0m\u001b[38;5;33m__pycache__\u001b[0m/  filter.py  gpu_compat.py  kernels.py\r\n"
     ]
    },
    {
     "ename": "ImportError",
     "evalue": "attempted relative import with no known parent package",
     "output_type": "error",
     "traceback": [
      "\u001b[0;31m---------------------------------------------------------------------------\u001b[0m",
      "\u001b[0;31mImportError\u001b[0m                               Traceback (most recent call last)",
      "\u001b[0;32m<ipython-input-24-c2044936e38d>\u001b[0m in \u001b[0;36m<module>\u001b[0;34m\u001b[0m\n\u001b[1;32m      1\u001b[0m \u001b[0mget_ipython\u001b[0m\u001b[0;34m(\u001b[0m\u001b[0;34m)\u001b[0m\u001b[0;34m.\u001b[0m\u001b[0mrun_line_magic\u001b[0m\u001b[0;34m(\u001b[0m\u001b[0;34m'cd'\u001b[0m\u001b[0;34m,\u001b[0m \u001b[0;34m'/home/eay8226/gcm-filters/gcm_filters'\u001b[0m\u001b[0;34m)\u001b[0m\u001b[0;34m\u001b[0m\u001b[0;34m\u001b[0m\u001b[0m\n\u001b[1;32m      2\u001b[0m \u001b[0mget_ipython\u001b[0m\u001b[0;34m(\u001b[0m\u001b[0;34m)\u001b[0m\u001b[0;34m.\u001b[0m\u001b[0mrun_line_magic\u001b[0m\u001b[0;34m(\u001b[0m\u001b[0;34m'ls'\u001b[0m\u001b[0;34m,\u001b[0m \u001b[0;34m''\u001b[0m\u001b[0;34m)\u001b[0m\u001b[0;34m\u001b[0m\u001b[0;34m\u001b[0m\u001b[0m\n\u001b[0;32m----> 3\u001b[0;31m \u001b[0;32mimport\u001b[0m \u001b[0mkernels\u001b[0m\u001b[0;34m.\u001b[0m\u001b[0mpy\u001b[0m\u001b[0;34m\u001b[0m\u001b[0;34m\u001b[0m\u001b[0m\n\u001b[0m\u001b[1;32m      4\u001b[0m \u001b[0;31m#%cd /home/eay8226/gcm-filters/notebooks\u001b[0m\u001b[0;34m\u001b[0m\u001b[0;34m\u001b[0m\u001b[0;34m\u001b[0m\u001b[0m\n",
      "\u001b[0;32m~/gcm-filters/gcm_filters/kernels.py\u001b[0m in \u001b[0;36m<module>\u001b[0;34m\u001b[0m\n\u001b[1;32m      8\u001b[0m \u001b[0;32mfrom\u001b[0m \u001b[0mtyping\u001b[0m \u001b[0;32mimport\u001b[0m \u001b[0mAny\u001b[0m\u001b[0;34m,\u001b[0m \u001b[0mDict\u001b[0m\u001b[0;34m\u001b[0m\u001b[0;34m\u001b[0m\u001b[0m\n\u001b[1;32m      9\u001b[0m \u001b[0;34m\u001b[0m\u001b[0m\n\u001b[0;32m---> 10\u001b[0;31m \u001b[0;32mfrom\u001b[0m \u001b[0;34m.\u001b[0m\u001b[0mgpu_compat\u001b[0m \u001b[0;32mimport\u001b[0m \u001b[0mArrayType\u001b[0m\u001b[0;34m,\u001b[0m \u001b[0mget_array_module\u001b[0m\u001b[0;34m\u001b[0m\u001b[0;34m\u001b[0m\u001b[0m\n\u001b[0m\u001b[1;32m     11\u001b[0m \u001b[0;34m\u001b[0m\u001b[0m\n\u001b[1;32m     12\u001b[0m \u001b[0;34m\u001b[0m\u001b[0m\n",
      "\u001b[0;31mImportError\u001b[0m: attempted relative import with no known parent package"
     ]
    }
   ],
   "source": [
    "%cd /home/eay8226/gcm-filters/gcm_filters\n",
    "%ls\n",
    "import kernels.py\n",
    "#%cd /home/eay8226/gcm-filters/notebooks"
   ]
  },
  {
   "cell_type": "code",
   "execution_count": null,
   "id": "thorough-reach",
   "metadata": {},
   "outputs": [],
   "source": []
  },
  {
   "cell_type": "code",
   "execution_count": null,
   "id": "curious-cleaner",
   "metadata": {},
   "outputs": [],
   "source": []
  },
  {
   "cell_type": "code",
   "execution_count": null,
   "id": "arranged-registrar",
   "metadata": {},
   "outputs": [],
   "source": []
  },
  {
   "cell_type": "code",
   "execution_count": null,
   "id": "indoor-penguin",
   "metadata": {},
   "outputs": [],
   "source": []
  },
  {
   "cell_type": "code",
   "execution_count": null,
   "id": "spanish-defendant",
   "metadata": {},
   "outputs": [],
   "source": []
  }
 ],
 "metadata": {
  "kernelspec": {
   "display_name": "Python 3",
   "language": "python",
   "name": "python3"
  },
  "language_info": {
   "codemirror_mode": {
    "name": "ipython",
    "version": 3
   },
   "file_extension": ".py",
   "mimetype": "text/x-python",
   "name": "python",
   "nbconvert_exporter": "python",
   "pygments_lexer": "ipython3",
   "version": "3.8.5"
  }
 },
 "nbformat": 4,
 "nbformat_minor": 5
}
