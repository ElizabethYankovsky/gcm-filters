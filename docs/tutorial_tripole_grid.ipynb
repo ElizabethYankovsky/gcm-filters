{
 "cells": [
  {
   "cell_type": "markdown",
   "metadata": {},
   "source": [
    "# Filtering on a tripole grid\n",
    "\n",
    "In this tutorial, we will use **Laplacians of varying complexity** to filter **tracer fields** on a global tripole grid ([Murray, 1996](https://www.sciencedirect.com/science/article/pii/S0021999196901369)). Examples of ocean models that use tripole grids include **POP** or **MOM6**."
   ]
  },
  {
   "cell_type": "code",
   "execution_count": 1,
   "metadata": {},
   "outputs": [],
   "source": [
    "import gcm_filters\n",
    "import numpy as np\n",
    "import xarray as xr"
   ]
  },
  {
   "cell_type": "markdown",
   "metadata": {},
   "source": [
    "The following are the grid types that we have so far implemented in `gcm-filters`:"
   ]
  },
  {
   "cell_type": "code",
   "execution_count": 2,
   "metadata": {},
   "outputs": [
    {
     "data": {
      "text/plain": [
       "[<GridType.REGULAR: 1>,\n",
       " <GridType.REGULAR_WITH_LAND: 2>,\n",
       " <GridType.IRREGULAR_WITH_LAND: 3>,\n",
       " <GridType.TRIPOLAR_REGULAR_WITH_LAND: 4>,\n",
       " <GridType.TRIPOLAR_POP_WITH_LAND: 5>]"
      ]
     },
     "execution_count": 2,
     "metadata": {},
     "output_type": "execute_result"
    }
   ],
   "source": [
    "list(gcm_filters.GridType)"
   ]
  },
  {
   "cell_type": "markdown",
   "metadata": {},
   "source": [
    "For each of these grid types, we have implemented a Laplacian that operates on the respective grid type. In this notebook, we will apply 4 Laplacians to filter **tracer fields on a global tripole grid**. \n",
    "\n",
    "| Laplacian | simple fixed factor  | fixed filter length scale|\n",
    "| ----------- | ----------- | --------------|\n",
    "| Ignores tripolar exchanges  | `REGULAR_WITH_LAND`       | `IRREGULAR_WITH_LAND` |\n",
    "| Handles tripolar exchanges  | `TRIPOLAR_REGULAR_WITH_LAND`        | `TRIPOLAR_POP_WITH_LAND` |\n",
    "\n",
    "As shown in the table, the categories in which the 4 Laplacians differ are:\n",
    "* **complexity** (rows)\n",
    "* **filter type** they can be used for (columns)\n",
    "\n",
    "For details on different filter types, see [this tutorial](https://gcm-filters.readthedocs.io/en/latest/tutorial_filter_types.html).\n",
    "In short:\n",
    "* A filter with **fixed factor**, e.g., `factor = 10`, attempts to remove scales smaller than 10 times the local grid scale. \n",
    "* A filter with **fixed filter length scale**, e.g., `filter_scale = 100 km`, attempts to remove scales smaller than 100km. \n",
    "\n",
    "**Side note:** The Laplacians in the right column can also be used for fixed factor filtering (less ad hoc than the simple fixed factor filters), anisotropic filtering, and for filtering with spatially-varying filter scale, through the use of spatially-varying `kappa`'s, see the [Filter Theory](https://gcm-filters.readthedocs.io/en/latest/filter_theory.html) and [this tutorial](https://gcm-filters.readthedocs.io/en/latest/tutorial_filter_types.html). In summary, the Laplacians in the right column are more flexible than the Laplacians in the left column - but also more expensive. In this notebook, we use the Laplacians in the right column only for filtering with fixed filtering scale."
   ]
  },
  {
   "cell_type": "markdown",
   "metadata": {},
   "source": [
    "## Global POP data"
   ]
  },
  {
   "cell_type": "markdown",
   "metadata": {},
   "source": [
    "First, we are going to work with the 0.1 degree nominal resolution POP tripole grid ([Smith et al., 2010](https://www.cesm.ucar.edu/models/cesm1.0/pop2/doc/sci/POPRefManual.pdf)). The grid variables are stored in the following dataset, which we pull from figshare."
   ]
  },
  {
   "cell_type": "code",
   "execution_count": 3,
   "metadata": {},
   "outputs": [
    {
     "data": {
      "text/html": [
       "<div><svg style=\"position: absolute; width: 0; height: 0; overflow: hidden\">\n",
       "<defs>\n",
       "<symbol id=\"icon-database\" viewBox=\"0 0 32 32\">\n",
       "<path d=\"M16 0c-8.837 0-16 2.239-16 5v4c0 2.761 7.163 5 16 5s16-2.239 16-5v-4c0-2.761-7.163-5-16-5z\"></path>\n",
       "<path d=\"M16 17c-8.837 0-16-2.239-16-5v6c0 2.761 7.163 5 16 5s16-2.239 16-5v-6c0 2.761-7.163 5-16 5z\"></path>\n",
       "<path d=\"M16 26c-8.837 0-16-2.239-16-5v6c0 2.761 7.163 5 16 5s16-2.239 16-5v-6c0 2.761-7.163 5-16 5z\"></path>\n",
       "</symbol>\n",
       "<symbol id=\"icon-file-text2\" viewBox=\"0 0 32 32\">\n",
       "<path d=\"M28.681 7.159c-0.694-0.947-1.662-2.053-2.724-3.116s-2.169-2.030-3.116-2.724c-1.612-1.182-2.393-1.319-2.841-1.319h-15.5c-1.378 0-2.5 1.121-2.5 2.5v27c0 1.378 1.122 2.5 2.5 2.5h23c1.378 0 2.5-1.122 2.5-2.5v-19.5c0-0.448-0.137-1.23-1.319-2.841zM24.543 5.457c0.959 0.959 1.712 1.825 2.268 2.543h-4.811v-4.811c0.718 0.556 1.584 1.309 2.543 2.268zM28 29.5c0 0.271-0.229 0.5-0.5 0.5h-23c-0.271 0-0.5-0.229-0.5-0.5v-27c0-0.271 0.229-0.5 0.5-0.5 0 0 15.499-0 15.5 0v7c0 0.552 0.448 1 1 1h7v19.5z\"></path>\n",
       "<path d=\"M23 26h-14c-0.552 0-1-0.448-1-1s0.448-1 1-1h14c0.552 0 1 0.448 1 1s-0.448 1-1 1z\"></path>\n",
       "<path d=\"M23 22h-14c-0.552 0-1-0.448-1-1s0.448-1 1-1h14c0.552 0 1 0.448 1 1s-0.448 1-1 1z\"></path>\n",
       "<path d=\"M23 18h-14c-0.552 0-1-0.448-1-1s0.448-1 1-1h14c0.552 0 1 0.448 1 1s-0.448 1-1 1z\"></path>\n",
       "</symbol>\n",
       "</defs>\n",
       "</svg>\n",
       "<style>/* CSS stylesheet for displaying xarray objects in jupyterlab.\n",
       " *\n",
       " */\n",
       "\n",
       ":root {\n",
       "  --xr-font-color0: var(--jp-content-font-color0, rgba(0, 0, 0, 1));\n",
       "  --xr-font-color2: var(--jp-content-font-color2, rgba(0, 0, 0, 0.54));\n",
       "  --xr-font-color3: var(--jp-content-font-color3, rgba(0, 0, 0, 0.38));\n",
       "  --xr-border-color: var(--jp-border-color2, #e0e0e0);\n",
       "  --xr-disabled-color: var(--jp-layout-color3, #bdbdbd);\n",
       "  --xr-background-color: var(--jp-layout-color0, white);\n",
       "  --xr-background-color-row-even: var(--jp-layout-color1, white);\n",
       "  --xr-background-color-row-odd: var(--jp-layout-color2, #eeeeee);\n",
       "}\n",
       "\n",
       "html[theme=dark],\n",
       "body.vscode-dark {\n",
       "  --xr-font-color0: rgba(255, 255, 255, 1);\n",
       "  --xr-font-color2: rgba(255, 255, 255, 0.54);\n",
       "  --xr-font-color3: rgba(255, 255, 255, 0.38);\n",
       "  --xr-border-color: #1F1F1F;\n",
       "  --xr-disabled-color: #515151;\n",
       "  --xr-background-color: #111111;\n",
       "  --xr-background-color-row-even: #111111;\n",
       "  --xr-background-color-row-odd: #313131;\n",
       "}\n",
       "\n",
       ".xr-wrap {\n",
       "  display: block;\n",
       "  min-width: 300px;\n",
       "  max-width: 700px;\n",
       "}\n",
       "\n",
       ".xr-text-repr-fallback {\n",
       "  /* fallback to plain text repr when CSS is not injected (untrusted notebook) */\n",
       "  display: none;\n",
       "}\n",
       "\n",
       ".xr-header {\n",
       "  padding-top: 6px;\n",
       "  padding-bottom: 6px;\n",
       "  margin-bottom: 4px;\n",
       "  border-bottom: solid 1px var(--xr-border-color);\n",
       "}\n",
       "\n",
       ".xr-header > div,\n",
       ".xr-header > ul {\n",
       "  display: inline;\n",
       "  margin-top: 0;\n",
       "  margin-bottom: 0;\n",
       "}\n",
       "\n",
       ".xr-obj-type,\n",
       ".xr-array-name {\n",
       "  margin-left: 2px;\n",
       "  margin-right: 10px;\n",
       "}\n",
       "\n",
       ".xr-obj-type {\n",
       "  color: var(--xr-font-color2);\n",
       "}\n",
       "\n",
       ".xr-sections {\n",
       "  padding-left: 0 !important;\n",
       "  display: grid;\n",
       "  grid-template-columns: 150px auto auto 1fr 20px 20px;\n",
       "}\n",
       "\n",
       ".xr-section-item {\n",
       "  display: contents;\n",
       "}\n",
       "\n",
       ".xr-section-item input {\n",
       "  display: none;\n",
       "}\n",
       "\n",
       ".xr-section-item input + label {\n",
       "  color: var(--xr-disabled-color);\n",
       "}\n",
       "\n",
       ".xr-section-item input:enabled + label {\n",
       "  cursor: pointer;\n",
       "  color: var(--xr-font-color2);\n",
       "}\n",
       "\n",
       ".xr-section-item input:enabled + label:hover {\n",
       "  color: var(--xr-font-color0);\n",
       "}\n",
       "\n",
       ".xr-section-summary {\n",
       "  grid-column: 1;\n",
       "  color: var(--xr-font-color2);\n",
       "  font-weight: 500;\n",
       "}\n",
       "\n",
       ".xr-section-summary > span {\n",
       "  display: inline-block;\n",
       "  padding-left: 0.5em;\n",
       "}\n",
       "\n",
       ".xr-section-summary-in:disabled + label {\n",
       "  color: var(--xr-font-color2);\n",
       "}\n",
       "\n",
       ".xr-section-summary-in + label:before {\n",
       "  display: inline-block;\n",
       "  content: '►';\n",
       "  font-size: 11px;\n",
       "  width: 15px;\n",
       "  text-align: center;\n",
       "}\n",
       "\n",
       ".xr-section-summary-in:disabled + label:before {\n",
       "  color: var(--xr-disabled-color);\n",
       "}\n",
       "\n",
       ".xr-section-summary-in:checked + label:before {\n",
       "  content: '▼';\n",
       "}\n",
       "\n",
       ".xr-section-summary-in:checked + label > span {\n",
       "  display: none;\n",
       "}\n",
       "\n",
       ".xr-section-summary,\n",
       ".xr-section-inline-details {\n",
       "  padding-top: 4px;\n",
       "  padding-bottom: 4px;\n",
       "}\n",
       "\n",
       ".xr-section-inline-details {\n",
       "  grid-column: 2 / -1;\n",
       "}\n",
       "\n",
       ".xr-section-details {\n",
       "  display: none;\n",
       "  grid-column: 1 / -1;\n",
       "  margin-bottom: 5px;\n",
       "}\n",
       "\n",
       ".xr-section-summary-in:checked ~ .xr-section-details {\n",
       "  display: contents;\n",
       "}\n",
       "\n",
       ".xr-array-wrap {\n",
       "  grid-column: 1 / -1;\n",
       "  display: grid;\n",
       "  grid-template-columns: 20px auto;\n",
       "}\n",
       "\n",
       ".xr-array-wrap > label {\n",
       "  grid-column: 1;\n",
       "  vertical-align: top;\n",
       "}\n",
       "\n",
       ".xr-preview {\n",
       "  color: var(--xr-font-color3);\n",
       "}\n",
       "\n",
       ".xr-array-preview,\n",
       ".xr-array-data {\n",
       "  padding: 0 5px !important;\n",
       "  grid-column: 2;\n",
       "}\n",
       "\n",
       ".xr-array-data,\n",
       ".xr-array-in:checked ~ .xr-array-preview {\n",
       "  display: none;\n",
       "}\n",
       "\n",
       ".xr-array-in:checked ~ .xr-array-data,\n",
       ".xr-array-preview {\n",
       "  display: inline-block;\n",
       "}\n",
       "\n",
       ".xr-dim-list {\n",
       "  display: inline-block !important;\n",
       "  list-style: none;\n",
       "  padding: 0 !important;\n",
       "  margin: 0;\n",
       "}\n",
       "\n",
       ".xr-dim-list li {\n",
       "  display: inline-block;\n",
       "  padding: 0;\n",
       "  margin: 0;\n",
       "}\n",
       "\n",
       ".xr-dim-list:before {\n",
       "  content: '(';\n",
       "}\n",
       "\n",
       ".xr-dim-list:after {\n",
       "  content: ')';\n",
       "}\n",
       "\n",
       ".xr-dim-list li:not(:last-child):after {\n",
       "  content: ',';\n",
       "  padding-right: 5px;\n",
       "}\n",
       "\n",
       ".xr-has-index {\n",
       "  font-weight: bold;\n",
       "}\n",
       "\n",
       ".xr-var-list,\n",
       ".xr-var-item {\n",
       "  display: contents;\n",
       "}\n",
       "\n",
       ".xr-var-item > div,\n",
       ".xr-var-item label,\n",
       ".xr-var-item > .xr-var-name span {\n",
       "  background-color: var(--xr-background-color-row-even);\n",
       "  margin-bottom: 0;\n",
       "}\n",
       "\n",
       ".xr-var-item > .xr-var-name:hover span {\n",
       "  padding-right: 5px;\n",
       "}\n",
       "\n",
       ".xr-var-list > li:nth-child(odd) > div,\n",
       ".xr-var-list > li:nth-child(odd) > label,\n",
       ".xr-var-list > li:nth-child(odd) > .xr-var-name span {\n",
       "  background-color: var(--xr-background-color-row-odd);\n",
       "}\n",
       "\n",
       ".xr-var-name {\n",
       "  grid-column: 1;\n",
       "}\n",
       "\n",
       ".xr-var-dims {\n",
       "  grid-column: 2;\n",
       "}\n",
       "\n",
       ".xr-var-dtype {\n",
       "  grid-column: 3;\n",
       "  text-align: right;\n",
       "  color: var(--xr-font-color2);\n",
       "}\n",
       "\n",
       ".xr-var-preview {\n",
       "  grid-column: 4;\n",
       "}\n",
       "\n",
       ".xr-var-name,\n",
       ".xr-var-dims,\n",
       ".xr-var-dtype,\n",
       ".xr-preview,\n",
       ".xr-attrs dt {\n",
       "  white-space: nowrap;\n",
       "  overflow: hidden;\n",
       "  text-overflow: ellipsis;\n",
       "  padding-right: 10px;\n",
       "}\n",
       "\n",
       ".xr-var-name:hover,\n",
       ".xr-var-dims:hover,\n",
       ".xr-var-dtype:hover,\n",
       ".xr-attrs dt:hover {\n",
       "  overflow: visible;\n",
       "  width: auto;\n",
       "  z-index: 1;\n",
       "}\n",
       "\n",
       ".xr-var-attrs,\n",
       ".xr-var-data {\n",
       "  display: none;\n",
       "  background-color: var(--xr-background-color) !important;\n",
       "  padding-bottom: 5px !important;\n",
       "}\n",
       "\n",
       ".xr-var-attrs-in:checked ~ .xr-var-attrs,\n",
       ".xr-var-data-in:checked ~ .xr-var-data {\n",
       "  display: block;\n",
       "}\n",
       "\n",
       ".xr-var-data > table {\n",
       "  float: right;\n",
       "}\n",
       "\n",
       ".xr-var-name span,\n",
       ".xr-var-data,\n",
       ".xr-attrs {\n",
       "  padding-left: 25px !important;\n",
       "}\n",
       "\n",
       ".xr-attrs,\n",
       ".xr-var-attrs,\n",
       ".xr-var-data {\n",
       "  grid-column: 1 / -1;\n",
       "}\n",
       "\n",
       "dl.xr-attrs {\n",
       "  padding: 0;\n",
       "  margin: 0;\n",
       "  display: grid;\n",
       "  grid-template-columns: 125px auto;\n",
       "}\n",
       "\n",
       ".xr-attrs dt,\n",
       ".xr-attrs dd {\n",
       "  padding: 0;\n",
       "  margin: 0;\n",
       "  float: left;\n",
       "  padding-right: 10px;\n",
       "  width: auto;\n",
       "}\n",
       "\n",
       ".xr-attrs dt {\n",
       "  font-weight: normal;\n",
       "  grid-column: 1;\n",
       "}\n",
       "\n",
       ".xr-attrs dt:hover span {\n",
       "  display: inline-block;\n",
       "  background: var(--xr-background-color);\n",
       "  padding-right: 10px;\n",
       "}\n",
       "\n",
       ".xr-attrs dd {\n",
       "  grid-column: 2;\n",
       "  white-space: pre-wrap;\n",
       "  word-break: break-all;\n",
       "}\n",
       "\n",
       ".xr-icon-database,\n",
       ".xr-icon-file-text2 {\n",
       "  display: inline-block;\n",
       "  vertical-align: middle;\n",
       "  width: 1em;\n",
       "  height: 1.5em !important;\n",
       "  stroke-width: 0;\n",
       "  stroke: currentColor;\n",
       "  fill: currentColor;\n",
       "}\n",
       "</style><pre class='xr-text-repr-fallback'>&lt;xarray.Dataset&gt;\n",
       "Dimensions:  (nlat: 2400, nlon: 3600, time: 1, z_t: 62)\n",
       "Coordinates:\n",
       "  * time     (time) object 0033-11-27 00:00:00\n",
       "  * z_t      (z_t) float32 500.0 1.5e+03 2.5e+03 ... 5.625e+05 5.875e+05\n",
       "    ULONG    (nlat, nlon) float64 ...\n",
       "    ULAT     (nlat, nlon) float64 ...\n",
       "    TLONG    (nlat, nlon) float64 ...\n",
       "    TLAT     (nlat, nlon) float64 ...\n",
       "Dimensions without coordinates: nlat, nlon\n",
       "Data variables:\n",
       "    KMT      (nlat, nlon) float64 ...\n",
       "    TAREA    (nlat, nlon) float64 ...\n",
       "    HTN      (nlat, nlon) float64 ...\n",
       "    HTE      (nlat, nlon) float64 ...\n",
       "    HUS      (nlat, nlon) float64 ...\n",
       "    HUW      (nlat, nlon) float64 ...\n",
       "    SST      (time, nlat, nlon) float32 ...\n",
       "Attributes:\n",
       "    title:           g.e01.GIAF.T62_t12.003\n",
       "    history:         none\n",
       "    Conventions:     CF-1.0; http://www.cgd.ucar.edu/cms/eaton/netcdf/CF-curr...\n",
       "    contents:        Diagnostic and Prognostic Variables\n",
       "    source:          CCSM POP2, the CCSM Ocean Component\n",
       "    revision:        $Id: tavg.F90 46405 2013-04-26 05:24:34Z mlevy@ucar.edu $\n",
       "    calendar:        All years have exactly  365 days.\n",
       "    start_time:      This dataset was created on 2014-07-19 at 17:28:03.3\n",
       "    cell_methods:    cell_methods = time: mean ==&gt; the variable values are av...\n",
       "    nsteps_total:    9618241\n",
       "    tavg_sum:        431999.9999999717\n",
       "    tavg_sum_qflux:  432000.00000000006</pre><div class='xr-wrap' hidden><div class='xr-header'><div class='xr-obj-type'>xarray.Dataset</div></div><ul class='xr-sections'><li class='xr-section-item'><input id='section-e568f48d-38c8-4256-8157-9075089a2248' class='xr-section-summary-in' type='checkbox' disabled ><label for='section-e568f48d-38c8-4256-8157-9075089a2248' class='xr-section-summary'  title='Expand/collapse section'>Dimensions:</label><div class='xr-section-inline-details'><ul class='xr-dim-list'><li><span>nlat</span>: 2400</li><li><span>nlon</span>: 3600</li><li><span class='xr-has-index'>time</span>: 1</li><li><span class='xr-has-index'>z_t</span>: 62</li></ul></div><div class='xr-section-details'></div></li><li class='xr-section-item'><input id='section-f17bb0fd-28cd-4266-94d1-52170146092c' class='xr-section-summary-in' type='checkbox'  checked><label for='section-f17bb0fd-28cd-4266-94d1-52170146092c' class='xr-section-summary' >Coordinates: <span>(6)</span></label><div class='xr-section-inline-details'></div><div class='xr-section-details'><ul class='xr-var-list'><li class='xr-var-item'><div class='xr-var-name'><span class='xr-has-index'>time</span></div><div class='xr-var-dims'>(time)</div><div class='xr-var-dtype'>object</div><div class='xr-var-preview xr-preview'>0033-11-27 00:00:00</div><input id='attrs-99f86c8a-40c0-40dd-a0f4-9a84f5ce8b1d' class='xr-var-attrs-in' type='checkbox' ><label for='attrs-99f86c8a-40c0-40dd-a0f4-9a84f5ce8b1d' title='Show/Hide attributes'><svg class='icon xr-icon-file-text2'><use xlink:href='#icon-file-text2'></use></svg></label><input id='data-1e64b2e1-cfbe-4da1-833b-b275a17542f9' class='xr-var-data-in' type='checkbox'><label for='data-1e64b2e1-cfbe-4da1-833b-b275a17542f9' title='Show/Hide data repr'><svg class='icon xr-icon-database'><use xlink:href='#icon-database'></use></svg></label><div class='xr-var-attrs'><dl class='xr-attrs'><dt><span>long_name :</span></dt><dd>time</dd><dt><span>bounds :</span></dt><dd>time_bound</dd></dl></div><div class='xr-var-data'><pre>array([cftime.DatetimeNoLeap(33, 11, 27, 0, 0, 0, 0)], dtype=object)</pre></div></li><li class='xr-var-item'><div class='xr-var-name'><span class='xr-has-index'>z_t</span></div><div class='xr-var-dims'>(z_t)</div><div class='xr-var-dtype'>float32</div><div class='xr-var-preview xr-preview'>500.0 1.5e+03 ... 5.875e+05</div><input id='attrs-967bcf19-c1dd-4ba4-a9b4-266bf3ee650f' class='xr-var-attrs-in' type='checkbox' ><label for='attrs-967bcf19-c1dd-4ba4-a9b4-266bf3ee650f' title='Show/Hide attributes'><svg class='icon xr-icon-file-text2'><use xlink:href='#icon-file-text2'></use></svg></label><input id='data-dc626ce7-e39f-4908-9bf2-0fa81b527360' class='xr-var-data-in' type='checkbox'><label for='data-dc626ce7-e39f-4908-9bf2-0fa81b527360' title='Show/Hide data repr'><svg class='icon xr-icon-database'><use xlink:href='#icon-database'></use></svg></label><div class='xr-var-attrs'><dl class='xr-attrs'><dt><span>long_name :</span></dt><dd>depth from surface to midpoint of layer</dd><dt><span>units :</span></dt><dd>centimeters</dd><dt><span>positive :</span></dt><dd>down</dd><dt><span>valid_min :</span></dt><dd>500.0</dd><dt><span>valid_max :</span></dt><dd>587499.06</dd></dl></div><div class='xr-var-data'><pre>array([5.000000e+02, 1.500000e+03, 2.500000e+03, 3.500000e+03, 4.500000e+03,\n",
       "       5.500000e+03, 6.500000e+03, 7.500000e+03, 8.500000e+03, 9.500000e+03,\n",
       "       1.050000e+04, 1.150000e+04, 1.250000e+04, 1.350000e+04, 1.450000e+04,\n",
       "       1.550000e+04, 1.650984e+04, 1.754790e+04, 1.862913e+04, 1.976603e+04,\n",
       "       2.097114e+04, 2.225783e+04, 2.364088e+04, 2.513702e+04, 2.676542e+04,\n",
       "       2.854837e+04, 3.051192e+04, 3.268680e+04, 3.510935e+04, 3.782276e+04,\n",
       "       4.087846e+04, 4.433777e+04, 4.827367e+04, 5.277280e+04, 5.793729e+04,\n",
       "       6.388626e+04, 7.075633e+04, 7.870025e+04, 8.788252e+04, 9.847059e+04,\n",
       "       1.106204e+05, 1.244567e+05, 1.400497e+05, 1.573946e+05, 1.764003e+05,\n",
       "       1.968944e+05, 2.186457e+05, 2.413972e+05, 2.649001e+05, 2.889385e+05,\n",
       "       3.133405e+05, 3.379793e+05, 3.627670e+05, 3.876452e+05, 4.125768e+05,\n",
       "       4.375392e+05, 4.625190e+05, 4.875083e+05, 5.125028e+05, 5.375000e+05,\n",
       "       5.624991e+05, 5.874991e+05], dtype=float32)</pre></div></li><li class='xr-var-item'><div class='xr-var-name'><span>ULONG</span></div><div class='xr-var-dims'>(nlat, nlon)</div><div class='xr-var-dtype'>float64</div><div class='xr-var-preview xr-preview'>...</div><input id='attrs-597e6c80-aa5e-473c-8e4b-d3084254da27' class='xr-var-attrs-in' type='checkbox' ><label for='attrs-597e6c80-aa5e-473c-8e4b-d3084254da27' title='Show/Hide attributes'><svg class='icon xr-icon-file-text2'><use xlink:href='#icon-file-text2'></use></svg></label><input id='data-ffca0fef-9c2e-4949-91ed-91737e7d312c' class='xr-var-data-in' type='checkbox'><label for='data-ffca0fef-9c2e-4949-91ed-91737e7d312c' title='Show/Hide data repr'><svg class='icon xr-icon-database'><use xlink:href='#icon-database'></use></svg></label><div class='xr-var-attrs'><dl class='xr-attrs'><dt><span>long_name :</span></dt><dd>array of u-grid longitudes</dd><dt><span>units :</span></dt><dd>degrees_east</dd></dl></div><div class='xr-var-data'><pre>[8640000 values with dtype=float64]</pre></div></li><li class='xr-var-item'><div class='xr-var-name'><span>ULAT</span></div><div class='xr-var-dims'>(nlat, nlon)</div><div class='xr-var-dtype'>float64</div><div class='xr-var-preview xr-preview'>...</div><input id='attrs-2ca3b329-5370-472d-85cd-3dd164268279' class='xr-var-attrs-in' type='checkbox' ><label for='attrs-2ca3b329-5370-472d-85cd-3dd164268279' title='Show/Hide attributes'><svg class='icon xr-icon-file-text2'><use xlink:href='#icon-file-text2'></use></svg></label><input id='data-d3e89ac1-c5d5-4960-833a-fb56ce8b5961' class='xr-var-data-in' type='checkbox'><label for='data-d3e89ac1-c5d5-4960-833a-fb56ce8b5961' title='Show/Hide data repr'><svg class='icon xr-icon-database'><use xlink:href='#icon-database'></use></svg></label><div class='xr-var-attrs'><dl class='xr-attrs'><dt><span>long_name :</span></dt><dd>array of u-grid latitudes</dd><dt><span>units :</span></dt><dd>degrees_north</dd></dl></div><div class='xr-var-data'><pre>[8640000 values with dtype=float64]</pre></div></li><li class='xr-var-item'><div class='xr-var-name'><span>TLONG</span></div><div class='xr-var-dims'>(nlat, nlon)</div><div class='xr-var-dtype'>float64</div><div class='xr-var-preview xr-preview'>...</div><input id='attrs-92d1ce83-07cd-48d9-a7ca-f9a8dfdbf651' class='xr-var-attrs-in' type='checkbox' ><label for='attrs-92d1ce83-07cd-48d9-a7ca-f9a8dfdbf651' title='Show/Hide attributes'><svg class='icon xr-icon-file-text2'><use xlink:href='#icon-file-text2'></use></svg></label><input id='data-e4499241-8da8-456d-8b85-65bb462343a8' class='xr-var-data-in' type='checkbox'><label for='data-e4499241-8da8-456d-8b85-65bb462343a8' title='Show/Hide data repr'><svg class='icon xr-icon-database'><use xlink:href='#icon-database'></use></svg></label><div class='xr-var-attrs'><dl class='xr-attrs'><dt><span>long_name :</span></dt><dd>array of t-grid longitudes</dd><dt><span>units :</span></dt><dd>degrees_east</dd></dl></div><div class='xr-var-data'><pre>[8640000 values with dtype=float64]</pre></div></li><li class='xr-var-item'><div class='xr-var-name'><span>TLAT</span></div><div class='xr-var-dims'>(nlat, nlon)</div><div class='xr-var-dtype'>float64</div><div class='xr-var-preview xr-preview'>...</div><input id='attrs-0f63ad32-8e4e-4dee-b381-c0ae397dd19e' class='xr-var-attrs-in' type='checkbox' ><label for='attrs-0f63ad32-8e4e-4dee-b381-c0ae397dd19e' title='Show/Hide attributes'><svg class='icon xr-icon-file-text2'><use xlink:href='#icon-file-text2'></use></svg></label><input id='data-c81935ee-f505-4bba-98e5-2c19e07220e3' class='xr-var-data-in' type='checkbox'><label for='data-c81935ee-f505-4bba-98e5-2c19e07220e3' title='Show/Hide data repr'><svg class='icon xr-icon-database'><use xlink:href='#icon-database'></use></svg></label><div class='xr-var-attrs'><dl class='xr-attrs'><dt><span>long_name :</span></dt><dd>array of t-grid latitudes</dd><dt><span>units :</span></dt><dd>degrees_north</dd></dl></div><div class='xr-var-data'><pre>[8640000 values with dtype=float64]</pre></div></li></ul></div></li><li class='xr-section-item'><input id='section-bd1b903e-0a10-4d54-bf37-a3a1e2acd789' class='xr-section-summary-in' type='checkbox'  checked><label for='section-bd1b903e-0a10-4d54-bf37-a3a1e2acd789' class='xr-section-summary' >Data variables: <span>(7)</span></label><div class='xr-section-inline-details'></div><div class='xr-section-details'><ul class='xr-var-list'><li class='xr-var-item'><div class='xr-var-name'><span>KMT</span></div><div class='xr-var-dims'>(nlat, nlon)</div><div class='xr-var-dtype'>float64</div><div class='xr-var-preview xr-preview'>...</div><input id='attrs-7fccf1be-d2db-4fe2-99ff-121f3f85999b' class='xr-var-attrs-in' type='checkbox' ><label for='attrs-7fccf1be-d2db-4fe2-99ff-121f3f85999b' title='Show/Hide attributes'><svg class='icon xr-icon-file-text2'><use xlink:href='#icon-file-text2'></use></svg></label><input id='data-74fa8270-9f1c-4008-bdbd-256a36f42dc2' class='xr-var-data-in' type='checkbox'><label for='data-74fa8270-9f1c-4008-bdbd-256a36f42dc2' title='Show/Hide data repr'><svg class='icon xr-icon-database'><use xlink:href='#icon-database'></use></svg></label><div class='xr-var-attrs'><dl class='xr-attrs'><dt><span>long_name :</span></dt><dd>k Index of Deepest Grid Cell on T Grid</dd></dl></div><div class='xr-var-data'><pre>[8640000 values with dtype=float64]</pre></div></li><li class='xr-var-item'><div class='xr-var-name'><span>TAREA</span></div><div class='xr-var-dims'>(nlat, nlon)</div><div class='xr-var-dtype'>float64</div><div class='xr-var-preview xr-preview'>...</div><input id='attrs-6797dfdc-dd2a-43fd-982e-885db5f043dd' class='xr-var-attrs-in' type='checkbox' ><label for='attrs-6797dfdc-dd2a-43fd-982e-885db5f043dd' title='Show/Hide attributes'><svg class='icon xr-icon-file-text2'><use xlink:href='#icon-file-text2'></use></svg></label><input id='data-0571ea1e-573b-441f-ace0-2fb0ff06145b' class='xr-var-data-in' type='checkbox'><label for='data-0571ea1e-573b-441f-ace0-2fb0ff06145b' title='Show/Hide data repr'><svg class='icon xr-icon-database'><use xlink:href='#icon-database'></use></svg></label><div class='xr-var-attrs'><dl class='xr-attrs'><dt><span>long_name :</span></dt><dd>area of T cells</dd><dt><span>units :</span></dt><dd>centimeter^2</dd></dl></div><div class='xr-var-data'><pre>[8640000 values with dtype=float64]</pre></div></li><li class='xr-var-item'><div class='xr-var-name'><span>HTN</span></div><div class='xr-var-dims'>(nlat, nlon)</div><div class='xr-var-dtype'>float64</div><div class='xr-var-preview xr-preview'>...</div><input id='attrs-c6580962-cc91-4a9b-a490-d77e0f7a477b' class='xr-var-attrs-in' type='checkbox' ><label for='attrs-c6580962-cc91-4a9b-a490-d77e0f7a477b' title='Show/Hide attributes'><svg class='icon xr-icon-file-text2'><use xlink:href='#icon-file-text2'></use></svg></label><input id='data-2e22a53d-ff65-45ae-b82e-932efcf25204' class='xr-var-data-in' type='checkbox'><label for='data-2e22a53d-ff65-45ae-b82e-932efcf25204' title='Show/Hide data repr'><svg class='icon xr-icon-database'><use xlink:href='#icon-database'></use></svg></label><div class='xr-var-attrs'><dl class='xr-attrs'><dt><span>long_name :</span></dt><dd>cell widths on North sides of T cell</dd><dt><span>units :</span></dt><dd>centimeters</dd></dl></div><div class='xr-var-data'><pre>[8640000 values with dtype=float64]</pre></div></li><li class='xr-var-item'><div class='xr-var-name'><span>HTE</span></div><div class='xr-var-dims'>(nlat, nlon)</div><div class='xr-var-dtype'>float64</div><div class='xr-var-preview xr-preview'>...</div><input id='attrs-9706589f-0205-4d68-8a49-fe9dd07c679d' class='xr-var-attrs-in' type='checkbox' ><label for='attrs-9706589f-0205-4d68-8a49-fe9dd07c679d' title='Show/Hide attributes'><svg class='icon xr-icon-file-text2'><use xlink:href='#icon-file-text2'></use></svg></label><input id='data-17ecc87e-c6e6-410a-8274-b2f1e1f56ea1' class='xr-var-data-in' type='checkbox'><label for='data-17ecc87e-c6e6-410a-8274-b2f1e1f56ea1' title='Show/Hide data repr'><svg class='icon xr-icon-database'><use xlink:href='#icon-database'></use></svg></label><div class='xr-var-attrs'><dl class='xr-attrs'><dt><span>long_name :</span></dt><dd>cell widths on East sides of T cell</dd><dt><span>units :</span></dt><dd>centimeters</dd></dl></div><div class='xr-var-data'><pre>[8640000 values with dtype=float64]</pre></div></li><li class='xr-var-item'><div class='xr-var-name'><span>HUS</span></div><div class='xr-var-dims'>(nlat, nlon)</div><div class='xr-var-dtype'>float64</div><div class='xr-var-preview xr-preview'>...</div><input id='attrs-63e70afb-c2a3-4b35-aa4a-77cb16959163' class='xr-var-attrs-in' type='checkbox' ><label for='attrs-63e70afb-c2a3-4b35-aa4a-77cb16959163' title='Show/Hide attributes'><svg class='icon xr-icon-file-text2'><use xlink:href='#icon-file-text2'></use></svg></label><input id='data-832f29e1-78db-411f-9c3f-b36aaafe6f4a' class='xr-var-data-in' type='checkbox'><label for='data-832f29e1-78db-411f-9c3f-b36aaafe6f4a' title='Show/Hide data repr'><svg class='icon xr-icon-database'><use xlink:href='#icon-database'></use></svg></label><div class='xr-var-attrs'><dl class='xr-attrs'><dt><span>long_name :</span></dt><dd>cell widths on South sides of U cell</dd><dt><span>units :</span></dt><dd>centimeters</dd></dl></div><div class='xr-var-data'><pre>[8640000 values with dtype=float64]</pre></div></li><li class='xr-var-item'><div class='xr-var-name'><span>HUW</span></div><div class='xr-var-dims'>(nlat, nlon)</div><div class='xr-var-dtype'>float64</div><div class='xr-var-preview xr-preview'>...</div><input id='attrs-97335253-2a30-4a85-955c-85d67e48a286' class='xr-var-attrs-in' type='checkbox' ><label for='attrs-97335253-2a30-4a85-955c-85d67e48a286' title='Show/Hide attributes'><svg class='icon xr-icon-file-text2'><use xlink:href='#icon-file-text2'></use></svg></label><input id='data-da639283-4d83-4c7b-a387-964f85f30d37' class='xr-var-data-in' type='checkbox'><label for='data-da639283-4d83-4c7b-a387-964f85f30d37' title='Show/Hide data repr'><svg class='icon xr-icon-database'><use xlink:href='#icon-database'></use></svg></label><div class='xr-var-attrs'><dl class='xr-attrs'><dt><span>long_name :</span></dt><dd>cell widths on West sides of U cell</dd><dt><span>units :</span></dt><dd>centimeters</dd></dl></div><div class='xr-var-data'><pre>[8640000 values with dtype=float64]</pre></div></li><li class='xr-var-item'><div class='xr-var-name'><span>SST</span></div><div class='xr-var-dims'>(time, nlat, nlon)</div><div class='xr-var-dtype'>float32</div><div class='xr-var-preview xr-preview'>...</div><input id='attrs-57ccfb4e-b456-4080-93eb-b6278cfaa4f2' class='xr-var-attrs-in' type='checkbox' ><label for='attrs-57ccfb4e-b456-4080-93eb-b6278cfaa4f2' title='Show/Hide attributes'><svg class='icon xr-icon-file-text2'><use xlink:href='#icon-file-text2'></use></svg></label><input id='data-4adcf50b-4bc2-4133-8c95-14251b54f8b0' class='xr-var-data-in' type='checkbox'><label for='data-4adcf50b-4bc2-4133-8c95-14251b54f8b0' title='Show/Hide data repr'><svg class='icon xr-icon-database'><use xlink:href='#icon-database'></use></svg></label><div class='xr-var-attrs'><dl class='xr-attrs'><dt><span>units :</span></dt><dd>degC</dd><dt><span>long_name :</span></dt><dd>Surface Potential Temperature</dd></dl></div><div class='xr-var-data'><pre>[8640000 values with dtype=float32]</pre></div></li></ul></div></li><li class='xr-section-item'><input id='section-f0ddfb49-6ecd-4f80-a7a9-d79cf7da0176' class='xr-section-summary-in' type='checkbox'  ><label for='section-f0ddfb49-6ecd-4f80-a7a9-d79cf7da0176' class='xr-section-summary' >Attributes: <span>(12)</span></label><div class='xr-section-inline-details'></div><div class='xr-section-details'><dl class='xr-attrs'><dt><span>title :</span></dt><dd>g.e01.GIAF.T62_t12.003</dd><dt><span>history :</span></dt><dd>none</dd><dt><span>Conventions :</span></dt><dd>CF-1.0; http://www.cgd.ucar.edu/cms/eaton/netcdf/CF-current.htm</dd><dt><span>contents :</span></dt><dd>Diagnostic and Prognostic Variables</dd><dt><span>source :</span></dt><dd>CCSM POP2, the CCSM Ocean Component</dd><dt><span>revision :</span></dt><dd>$Id: tavg.F90 46405 2013-04-26 05:24:34Z mlevy@ucar.edu $</dd><dt><span>calendar :</span></dt><dd>All years have exactly  365 days.</dd><dt><span>start_time :</span></dt><dd>This dataset was created on 2014-07-19 at 17:28:03.3</dd><dt><span>cell_methods :</span></dt><dd>cell_methods = time: mean ==&gt; the variable values are averaged over the time interval between the previous time coordinate and the current one.          cell_methods  absent  ==&gt; the variable values are at the time given by the current time coordinate.</dd><dt><span>nsteps_total :</span></dt><dd>9618241</dd><dt><span>tavg_sum :</span></dt><dd>431999.9999999717</dd><dt><span>tavg_sum_qflux :</span></dt><dd>432000.00000000006</dd></dl></div></li></ul></div></div>"
      ],
      "text/plain": [
       "<xarray.Dataset>\n",
       "Dimensions:  (nlat: 2400, nlon: 3600, time: 1, z_t: 62)\n",
       "Coordinates:\n",
       "  * time     (time) object 0033-11-27 00:00:00\n",
       "  * z_t      (z_t) float32 500.0 1.5e+03 2.5e+03 ... 5.625e+05 5.875e+05\n",
       "    ULONG    (nlat, nlon) float64 ...\n",
       "    ULAT     (nlat, nlon) float64 ...\n",
       "    TLONG    (nlat, nlon) float64 ...\n",
       "    TLAT     (nlat, nlon) float64 ...\n",
       "Dimensions without coordinates: nlat, nlon\n",
       "Data variables:\n",
       "    KMT      (nlat, nlon) float64 ...\n",
       "    TAREA    (nlat, nlon) float64 ...\n",
       "    HTN      (nlat, nlon) float64 ...\n",
       "    HTE      (nlat, nlon) float64 ...\n",
       "    HUS      (nlat, nlon) float64 ...\n",
       "    HUW      (nlat, nlon) float64 ...\n",
       "    SST      (time, nlat, nlon) float32 ...\n",
       "Attributes:\n",
       "    title:           g.e01.GIAF.T62_t12.003\n",
       "    history:         none\n",
       "    Conventions:     CF-1.0; http://www.cgd.ucar.edu/cms/eaton/netcdf/CF-curr...\n",
       "    contents:        Diagnostic and Prognostic Variables\n",
       "    source:          CCSM POP2, the CCSM Ocean Component\n",
       "    revision:        $Id: tavg.F90 46405 2013-04-26 05:24:34Z mlevy@ucar.edu $\n",
       "    calendar:        All years have exactly  365 days.\n",
       "    start_time:      This dataset was created on 2014-07-19 at 17:28:03.3\n",
       "    cell_methods:    cell_methods = time: mean ==> the variable values are av...\n",
       "    nsteps_total:    9618241\n",
       "    tavg_sum:        431999.9999999717\n",
       "    tavg_sum_qflux:  432000.00000000006"
      ]
     },
     "execution_count": 3,
     "metadata": {},
     "output_type": "execute_result"
    }
   ],
   "source": [
    "import requests\n",
    "url = 'https://ndownloader.figshare.com/files/28041441'\n",
    "file = requests.get(url)\n",
    "open('POP_tripole_grid.nc', 'wb').write(file.content)\n",
    "ds = xr.open_dataset('POP_tripole_grid.nc')\n",
    "ds"
   ]
  },
  {
   "cell_type": "markdown",
   "metadata": {},
   "source": [
    "### Preparing POP grid information\n",
    "\n",
    "All Laplacians listed in our table need a `wet_mask`. This is a mask that is 1 in ocean T-cells, and 0 in land T-cells. Since we only want to filter temperature in the uppermost level, we only need a 2D `wet_mask`."
   ]
  },
  {
   "cell_type": "code",
   "execution_count": 4,
   "metadata": {},
   "outputs": [
    {
     "data": {
      "image/png": "[encoded data removed]",
      "text/plain": [
       "<Figure size 720x432 with 2 Axes>"
      ]
     },
     "metadata": {
      "needs_background": "light"
     },
     "output_type": "display_data"
    }
   ],
   "source": [
    "wet_mask = xr.where(ds['KMT']>0, 1, 0)\n",
    "wet_mask.plot(figsize=(10,6), cbar_kwargs={'label': ''});"
   ]
  },
  {
   "cell_type": "markdown",
   "metadata": {},
   "source": [
    "Let's start by creating the grid information for the `TRIPOLAR_POP_WITH_LAND` Laplacian. The required grid variables are directly available from POP's model diagnostics:"
   ]
  },
  {
   "cell_type": "code",
   "execution_count": 5,
   "metadata": {},
   "outputs": [],
   "source": [
    "dxe = ds.HUS.where(wet_mask)/100  # x-spacing centered at eastern T-cell edge in m\n",
    "dye = ds.HTE.where(wet_mask)/100  # y-spacing centered at eastern T-cell edge in m\n",
    "dxn = ds.HTN.where(wet_mask)/100  # x-spacing centered at northern T-cell edge in m\n",
    "dyn = ds.HUW.where(wet_mask)/100  # y-spacing centered at northern T-cell edge in m\n",
    "area = ds.TAREA.where(wet_mask)/10000  # T-cell area in m2"
   ]
  },
  {
   "cell_type": "markdown",
   "metadata": {},
   "source": [
    "The `IRREGULAR_WITH_LAND` Laplacian was coded for general curvilinear grids and uses a south-west convention (rather than a north-east convention). In other words, it needs grid length information about the western and southern cell edges: `dxw`, `dyw`, `dxs`, `dys`."
   ]
  },
  {
   "cell_type": "code",
   "execution_count": 6,
   "metadata": {},
   "outputs": [],
   "source": [
    "dxw = ds.HUS.roll(nlon=-1, roll_coords=False).where(wet_mask)/100  # x-spacing centered at western T-cell edge in m\n",
    "dyw = ds.HTE.roll(nlon=-1, roll_coords=False).where(wet_mask)/100  # y-spacing centered at western T-cell edge in m\n",
    "dxs = ds.HTN.roll(nlat=-1, roll_coords=False).where(wet_mask)/100  # x-spacing centered at southern T-cell edge in m\n",
    "dys = ds.HUW.roll(nlat=-1, roll_coords=False).where(wet_mask)/100  # y-spacing centered at southern T-cell edge in m"
   ]
  },
  {
   "cell_type": "markdown",
   "metadata": {},
   "source": [
    "Finally, the filters with fixed filter length scale will have to know what the minimum grid spacing is in our model."
   ]
  },
  {
   "cell_type": "code",
   "execution_count": 7,
   "metadata": {},
   "outputs": [
    {
     "data": {
      "text/plain": [
       "array(2245.78304344)"
      ]
     },
     "execution_count": 7,
     "metadata": {},
     "output_type": "execute_result"
    }
   ],
   "source": [
    "dx_min_POP = min(dxe.min(),dye.min(),dxn.min(),dyn.min())\n",
    "dx_min_POP = dx_min_POP.values\n",
    "dx_min_POP"
   ]
  },
  {
   "cell_type": "markdown",
   "metadata": {},
   "source": [
    "### Field to be filtered"
   ]
  },
  {
   "cell_type": "markdown",
   "metadata": {},
   "source": [
    "Usually, fields that we would want to filter on a tripole grid are fields from model output (from a model with native tripole grid), e.g., temperature, salinity, kinetic energy. Here, we instead filter a very simple field: the sum of two **delta functions**, $\\delta = \\delta_1 - \\delta_2$, where $\\delta_1$ and $\\delta_2$ have **mass close to the northern boundary fold** of the logical POP tripole grid. This choice will make the difference between the different Laplacians in our table above extra clear."
   ]
  },
  {
   "cell_type": "code",
   "execution_count": 8,
   "metadata": {},
   "outputs": [],
   "source": [
    "delta1 = 0 * xr.ones_like(ds.nlat * ds.nlon)  # initialize 2D field with zeros\n",
    "delta2 = 0 * xr.ones_like(ds.nlat * ds.nlon)  # initialize 2D field with zeros\n",
    "delta1[2399, 900:950] = 1  # deploy mass in the uppermost row; width: 50 columns\n",
    "delta2[2399,2500:2550] = 1  # deploy mass in the uppermost row; width: 50 columns\n",
    "delta = delta1 - delta2\n",
    "delta = delta.where(wet_mask)"
   ]
  },
  {
   "cell_type": "markdown",
   "metadata": {},
   "source": [
    "Here we plot the **uppermost 20 rows of the logical POP tripole grid**, a **subset of the distorted Arctic** (even if this is hard to see with this projection)."
   ]
  },
  {
   "cell_type": "code",
   "execution_count": 9,
   "metadata": {},
   "outputs": [
    {
     "data": {
      "text/plain": [
       "<matplotlib.collections.QuadMesh at 0x2aefca684e50>"
      ]
     },
     "execution_count": 9,
     "metadata": {},
     "output_type": "execute_result"
    },
    {
     "data": {
      "image/png": "[encoded data removed]",
      "text/plain": [
       "<Figure size 1800x288 with 2 Axes>"
      ]
     },
     "metadata": {
      "needs_background": "light"
     },
     "output_type": "display_data"
    }
   ],
   "source": [
    "yslice = slice(len(ds.nlat)-20, None)\n",
    "delta.isel(nlat=yslice).plot(figsize=(25,4), cmap='PiYG_r')"
   ]
  },
  {
   "cell_type": "markdown",
   "metadata": {},
   "source": [
    "In the model, there are exchanges across the northern edge of the logical array plotted above. The exchanges work as follows: You fold the northern edge onto itself, rotating it along a pivot point that is located in the middle of the northern edge.\n",
    "The point is that **Laplacians that handle tripolar exchanges** (second row in table above) will diffuse the two delta functions **across the northern edge**, into the respective other half of the domain."
   ]
  },
  {
   "cell_type": "markdown",
   "metadata": {},
   "source": [
    "### Simple fixed factor filters"
   ]
  },
  {
   "cell_type": "markdown",
   "metadata": {},
   "source": [
    "First, we create the two filters with **fixed factor** (left column in table above). In both cases, we choose a **fixed factor of 10** and a **Gaussian filter shape**."
   ]
  },
  {
   "cell_type": "code",
   "execution_count": 10,
   "metadata": {},
   "outputs": [],
   "source": [
    "factor = 10\n",
    "dx_min = 1\n",
    "filter_shape = gcm_filters.FilterShape.GAUSSIAN"
   ]
  },
  {
   "cell_type": "code",
   "execution_count": 11,
   "metadata": {},
   "outputs": [
    {
     "data": {
      "text/plain": [
       "Filter(filter_scale=10, dx_min=1, filter_shape=<FilterShape.GAUSSIAN: 1>, transition_width=3.141592653589793, ndim=2, n_steps=11, grid_type=<GridType.REGULAR_WITH_LAND: 2>)"
      ]
     },
     "execution_count": 11,
     "metadata": {},
     "output_type": "execute_result"
    }
   ],
   "source": [
    "filter_regular_with_land = gcm_filters.Filter(\n",
    "    filter_scale=factor,\n",
    "    dx_min=dx_min,\n",
    "    filter_shape=filter_shape,\n",
    "    grid_type=gcm_filters.GridType.REGULAR_WITH_LAND,\n",
    "    grid_vars={'wet_mask': wet_mask}\n",
    ")\n",
    "filter_regular_with_land"
   ]
  },
  {
   "cell_type": "code",
   "execution_count": 12,
   "metadata": {},
   "outputs": [
    {
     "data": {
      "text/plain": [
       "Filter(filter_scale=10, dx_min=1, filter_shape=<FilterShape.GAUSSIAN: 1>, transition_width=3.141592653589793, ndim=2, n_steps=11, grid_type=<GridType.TRIPOLAR_REGULAR_WITH_LAND: 4>)"
      ]
     },
     "execution_count": 12,
     "metadata": {},
     "output_type": "execute_result"
    }
   ],
   "source": [
    "filter_tripolar_regular_with_land = gcm_filters.Filter(\n",
    "    filter_scale=factor,\n",
    "    dx_min=1,\n",
    "    filter_shape=filter_shape,\n",
    "    grid_type=gcm_filters.GridType.TRIPOLAR_REGULAR_WITH_LAND,\n",
    "    grid_vars={'wet_mask': wet_mask}\n",
    ")\n",
    "filter_tripolar_regular_with_land"
   ]
  },
  {
   "cell_type": "code",
   "execution_count": 13,
   "metadata": {},
   "outputs": [
    {
     "name": "stdout",
     "output_type": "stream",
     "text": [
      "CPU times: user 3.56 s, sys: 4.02 s, total: 7.58 s\n",
      "Wall time: 7.6 s\n",
      "CPU times: user 3.84 s, sys: 4.77 s, total: 8.61 s\n",
      "Wall time: 8.68 s\n"
     ]
    }
   ],
   "source": [
    "%time delta_filtered_regular_with_land = filter_regular_with_land.apply(delta*area, dims=['nlat', 'nlon'])/area\n",
    "%time delta_filtered_tripolar_regular_with_land = filter_tripolar_regular_with_land.apply(delta*area, dims=['nlat', 'nlon'])/area"
   ]
  },
  {
   "cell_type": "markdown",
   "metadata": {},
   "source": [
    "Filtering with the second filter took a touch longer than with the first filter because the second filter is of increased complexity: it handles the tripolar boundary condition correctly, whereas the first filter does not. This is shown in the figure below."
   ]
  },
  {
   "cell_type": "code",
   "execution_count": 14,
   "metadata": {},
   "outputs": [
    {
     "data": {
      "image/png": "[encoded data removed]",
      "text/plain": [
       "<Figure size 1800x648 with 4 Axes>"
      ]
     },
     "metadata": {
      "needs_background": "light"
     },
     "output_type": "display_data"
    }
   ],
   "source": [
    "import matplotlib.pyplot as plt\n",
    "\n",
    "fig,axs = plt.subplots(2,1,figsize=(25,9))\n",
    "delta_filtered_regular_with_land.isel(nlat=yslice).plot(ax=axs[0], cmap='PiYG_r')\n",
    "delta_filtered_tripolar_regular_with_land.isel(nlat=yslice).plot(ax=axs[1], cmap='PiYG_r');"
   ]
  },
  {
   "cell_type": "markdown",
   "metadata": {},
   "source": [
    "The **second panel** confirms that the `TRIPOLAR_REGULAR_WITH_LAND` Laplacian allows exchanges across the northern boundary fold, both \n",
    "* from left to right (pink shading, originating from `delta1` deployed in left part of domain); and \n",
    "* from right to left (green shading, originating from `delta2` deployed in right part of domain). \n",
    "\n",
    "The **first panel** shows that the `REGULAR_WITH_LAND` Laplacian does not allow exchanges across the northern boundary fold as expected. Also note that the amplitudes of the diffused delta functions in panel 1 are higher than in panel 2. This is due to the fact that `IRREGULAR_WITH_LAND` thinks that the northern boundary is land (because the southernmost row of `wet_mask` consists of zeros: Antarctica, and `IRREGULAR_WITH_LAND` uses a periodic boundary condition). The effective kernel changes shape close to the continental boundaries; loosely speaking, the effective kernel reflects back into the ocean if it hits continental boundaries."
   ]
  },
  {
   "cell_type": "markdown",
   "metadata": {},
   "source": [
    "### Filters with fixed filter length scale\n",
    "\n",
    "The next two filters are for filtering with **fixed length scale** (right column in table above). For both filters, we pick a filter length scale of **111.7 km**, equal to one degree of latitude."
   ]
  },
  {
   "cell_type": "code",
   "execution_count": 15,
   "metadata": {},
   "outputs": [],
   "source": [
    "filter_scale = 111700 \n",
    "filter_shape = gcm_filters.FilterShape.GAUSSIAN\n",
    "dx_min = dx_min_POP"
   ]
  },
  {
   "cell_type": "code",
   "execution_count": 16,
   "metadata": {},
   "outputs": [
    {
     "data": {
      "text/plain": [
       "Filter(filter_scale=111700, dx_min=array(2245.78304344), filter_shape=<FilterShape.GAUSSIAN: 1>, transition_width=3.141592653589793, ndim=2, n_steps=55, grid_type=<GridType.IRREGULAR_WITH_LAND: 3>)"
      ]
     },
     "execution_count": 16,
     "metadata": {},
     "output_type": "execute_result"
    }
   ],
   "source": [
    "filter_irregular_with_land = gcm_filters.Filter(\n",
    "    filter_scale=filter_scale,\n",
    "    dx_min=dx_min,\n",
    "    filter_shape=filter_shape,\n",
    "    grid_type=gcm_filters.GridType.IRREGULAR_WITH_LAND,\n",
    "    grid_vars={\n",
    "        'wet_mask': wet_mask, \n",
    "        'dxw': dxw, 'dyw': dyw, 'dxs': dxs, 'dys': dys, 'area': area\n",
    "    }\n",
    ")\n",
    "filter_irregular_with_land"
   ]
  },
  {
   "cell_type": "code",
   "execution_count": 17,
   "metadata": {},
   "outputs": [
    {
     "data": {
      "text/plain": [
       "Filter(filter_scale=111700, dx_min=array(2245.78304344), filter_shape=<FilterShape.GAUSSIAN: 1>, transition_width=3.141592653589793, ndim=2, n_steps=55, grid_type=<GridType.TRIPOLAR_POP_WITH_LAND: 5>)"
      ]
     },
     "execution_count": 17,
     "metadata": {},
     "output_type": "execute_result"
    }
   ],
   "source": [
    "filter_tripolar_pop_with_land = gcm_filters.Filter(\n",
    "    filter_scale=filter_scale,\n",
    "    dx_min=dx_min,\n",
    "    filter_shape=filter_shape,\n",
    "    grid_type=gcm_filters.GridType.TRIPOLAR_POP_WITH_LAND,\n",
    "    grid_vars={\n",
    "        'wet_mask': wet_mask, \n",
    "        'dxe': dxe, 'dye': dye, 'dxn': dxn, 'dyn': dyn, 'tarea': area\n",
    "    }\n",
    ")\n",
    "filter_tripolar_pop_with_land"
   ]
  },
  {
   "cell_type": "code",
   "execution_count": 18,
   "metadata": {},
   "outputs": [
    {
     "name": "stdout",
     "output_type": "stream",
     "text": [
      "CPU times: user 17.6 s, sys: 19 s, total: 36.6 s\n",
      "Wall time: 36.7 s\n",
      "CPU times: user 18.7 s, sys: 18.4 s, total: 37.1 s\n",
      "Wall time: 37.3 s\n"
     ]
    }
   ],
   "source": [
    "%time delta_filtered_irregular_with_land = filter_irregular_with_land.apply(delta, dims=['nlat', 'nlon'])\n",
    "%time delta_filtered_tripolar_pop_with_land = filter_tripolar_pop_with_land.apply(delta, dims=['nlat', 'nlon'])"
   ]
  },
  {
   "cell_type": "markdown",
   "metadata": {},
   "source": [
    "Both filters took considerably longer than the simple fixed factor filters in the previous section, as expected. Again, filtering with the second filter took a touch longer than with the first filter (but not too much longer), due to the correct handling of the tripolar boundary exchanges."
   ]
  },
  {
   "cell_type": "code",
   "execution_count": 19,
   "metadata": {},
   "outputs": [
    {
     "data": {
      "image/png": "[encoded data removed]",
      "text/plain": [
       "<Figure size 1800x648 with 4 Axes>"
      ]
     },
     "metadata": {
      "needs_background": "light"
     },
     "output_type": "display_data"
    }
   ],
   "source": [
    "fig,axs = plt.subplots(2,1,figsize=(25,9))\n",
    "delta_filtered_regular_with_land.isel(nlat=yslice).plot(ax=axs[0], cmap='PiYG_r')\n",
    "delta_filtered_tripolar_regular_with_land.isel(nlat=yslice).plot(ax=axs[1], cmap='PiYG_r');"
   ]
  },
  {
   "cell_type": "markdown",
   "metadata": {},
   "source": [
    "## Global MOM6 data\n",
    "..."
   ]
  },
  {
   "cell_type": "code",
   "execution_count": null,
   "metadata": {},
   "outputs": [],
   "source": []
  }
 ],
 "metadata": {
  "kernelspec": {
   "display_name": "NPL3 (my_npl_clone_20201220)",
   "language": "python",
   "name": "npl3-my_npl_clone_20201220"
  },
  "language_info": {
   "codemirror_mode": {
    "name": "ipython",
    "version": 3
   },
   "file_extension": ".py",
   "mimetype": "text/x-python",
   "name": "python",
   "nbconvert_exporter": "python",
   "pygments_lexer": "ipython3",
   "version": "3.7.9"
  }
 },
 "nbformat": 4,
 "nbformat_minor": 4
}
