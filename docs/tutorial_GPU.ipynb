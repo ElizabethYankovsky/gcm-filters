{
 "cells": [
  {
   "cell_type": "markdown",
   "metadata": {},
   "source": [
    "# Filtering on CPUs versus GPUs\n",
    "\n",
    "This tutorial gives a quick introduction to using `gcm-filters` on either CPU's or GPU's."
   ]
  },
  {
   "cell_type": "code",
   "execution_count": 6,
   "metadata": {},
   "outputs": [],
   "source": [
    "import gcm_filters\n",
    "import numpy as np\n",
    "import xarray as xr"
   ]
  },
  {
   "cell_type": "markdown",
   "metadata": {},
   "source": [
    "## POP data"
   ]
  },
  {
   "cell_type": "markdown",
   "metadata": {},
   "source": [
    "We are going to work with data from the CORE-forced Parallel Ocean Program (POP) simulation described in [Johnson et al. (2016)](https://journals.ametsoc.org/view/journals/phoc/46/10/jpo-d-15-0202.1.xml). The corresponding grid is the 0.1 degree nominal resolution POP tripole grid ([Smith et al., 2010](https://www.cesm.ucar.edu/models/cesm1.0/pop2/doc/sci/POPRefManual.pdf)). SST snapshot data and grid variables are stored in the following dataset, which we pull from figshare."
   ]
  },
  {
   "cell_type": "code",
   "execution_count": 8,
   "metadata": {},
   "outputs": [
    {
     "ename": "AttributeError",
     "evalue": "'Response' object has no attribute 'contents'",
     "output_type": "error",
     "traceback": [
      "\u001b[0;31m---------------------------------------------------------------------------\u001b[0m",
      "\u001b[0;31mAttributeError\u001b[0m                            Traceback (most recent call last)",
      "\u001b[0;32m<ipython-input-8-d80bf10cbc16>\u001b[0m in \u001b[0;36m<module>\u001b[0;34m\u001b[0m\n\u001b[1;32m      3\u001b[0m \u001b[0mfile\u001b[0m \u001b[0;34m=\u001b[0m \u001b[0mrequests\u001b[0m\u001b[0;34m.\u001b[0m\u001b[0mget\u001b[0m\u001b[0;34m(\u001b[0m\u001b[0murl\u001b[0m\u001b[0;34m)\u001b[0m\u001b[0;34m\u001b[0m\u001b[0;34m\u001b[0m\u001b[0m\n\u001b[1;32m      4\u001b[0m \u001b[0;32mwith\u001b[0m \u001b[0mopen\u001b[0m\u001b[0;34m(\u001b[0m\u001b[0;34m'POP_SST.nc'\u001b[0m\u001b[0;34m,\u001b[0m \u001b[0;34m'wb'\u001b[0m\u001b[0;34m)\u001b[0m \u001b[0;32mas\u001b[0m \u001b[0mfp\u001b[0m\u001b[0;34m:\u001b[0m\u001b[0;34m\u001b[0m\u001b[0;34m\u001b[0m\u001b[0m\n\u001b[0;32m----> 5\u001b[0;31m     \u001b[0mfp\u001b[0m\u001b[0;34m.\u001b[0m\u001b[0mwrite\u001b[0m\u001b[0;34m(\u001b[0m\u001b[0mfile\u001b[0m\u001b[0;34m.\u001b[0m\u001b[0mcontents\u001b[0m\u001b[0;34m)\u001b[0m\u001b[0;34m\u001b[0m\u001b[0;34m\u001b[0m\u001b[0m\n\u001b[0m\u001b[1;32m      6\u001b[0m \u001b[0mds\u001b[0m \u001b[0;34m=\u001b[0m \u001b[0mxr\u001b[0m\u001b[0;34m.\u001b[0m\u001b[0mopen_dataset\u001b[0m\u001b[0;34m(\u001b[0m\u001b[0;34m'POP_SST.nc'\u001b[0m\u001b[0;34m)\u001b[0m\u001b[0;34m\u001b[0m\u001b[0;34m\u001b[0m\u001b[0m\n\u001b[1;32m      7\u001b[0m \u001b[0mds\u001b[0m\u001b[0;34m\u001b[0m\u001b[0;34m\u001b[0m\u001b[0m\n",
      "\u001b[0;31mAttributeError\u001b[0m: 'Response' object has no attribute 'contents'"
     ]
    }
   ],
   "source": [
    "import requests\n",
    "url = 'https://ndownloader.figshare.com/files/28041441'\n",
    "file = requests.get(url)\n",
    "with open('POP_SST.nc', 'wb') as fp:\n",
    "    fp.write(file.contents)\n",
    "ds = xr.open_dataset('POP_SST.nc')\n",
    "ds"
   ]
  },
  {
   "cell_type": "markdown",
   "metadata": {},
   "source": [
    "In this example, we want to **filter** SST **with a fixed factor of 10**, i.e., to nominally 1 degree resolution.\n",
    "\n",
    "To keep things simple, we will filter with the **simple fixed factor filter**. The `TRIPOLAR_REGULAR_WITH_LAND` Laplacian is suitable for this filter and our data on a tripole grid. This Laplacian only needs a `wet_mask` as a grid variable:"
   ]
  },
  {
   "cell_type": "code",
   "execution_count": null,
   "metadata": {},
   "outputs": [],
   "source": [
    "gcm_filters.required_grid_vars(gcm_filters.GridType.TRIPOLAR_REGULAR_WITH_LAND)"
   ]
  },
  {
   "cell_type": "markdown",
   "metadata": {},
   "source": [
    "`wet_mask` is a mask that is 1 in ocean T-cells, and 0 in land T-cells. Since we only want to filter temperature in the uppermost level, we only need a 2D `wet_mask`."
   ]
  },
  {
   "cell_type": "code",
   "execution_count": null,
   "metadata": {},
   "outputs": [],
   "source": [
    "wet_mask = xr.where(ds['KMT']>0, 1, 0)\n",
    "wet_mask.plot(figsize=(10,6), cbar_kwargs={'label': ''});"
   ]
  },
  {
   "cell_type": "markdown",
   "metadata": {},
   "source": [
    "We also need the area of the T-cells."
   ]
  },
  {
   "cell_type": "code",
   "execution_count": null,
   "metadata": {},
   "outputs": [],
   "source": [
    "area = ds.TAREA.where(wet_mask) / 10000  # convert units from cm2 to m2"
   ]
  },
  {
   "cell_type": "markdown",
   "metadata": {},
   "source": [
    "## Filtering on CPUs\n",
    "\n",
    "We tell `gcm-filters` to filter on CPU's by providing a `wet_mask` and input data that are **NumPy Arrays** or **Dask Arrays with NumPy chunks** (rather than CuPy Arrays or Dask Arrays with CuPy chunks)."
   ]
  },
  {
   "cell_type": "code",
   "execution_count": null,
   "metadata": {},
   "outputs": [],
   "source": [
    "wet_mask = wet_mask.chunk({'nlat': len(ds.nlat), 'nlon': len(ds.nlon)})  # 1 chunk\n",
    "wet_mask"
   ]
  },
  {
   "cell_type": "code",
   "execution_count": null,
   "metadata": {},
   "outputs": [],
   "source": [
    "sst = ds.SST.where(wet_mask)\n",
    "sst = sst.chunk({'nlat': len(ds.nlat), 'nlon': len(ds.nlon)})  # 1 chunk\n",
    "sst"
   ]
  },
  {
   "cell_type": "code",
   "execution_count": null,
   "metadata": {},
   "outputs": [],
   "source": [
    "area = area.chunk({'nlat': len(ds.nlat), 'nlon': len(ds.nlon)})  # 1 chunk\n",
    "area"
   ]
  },
  {
   "cell_type": "markdown",
   "metadata": {},
   "source": [
    "These are our filter specs (see also the section on simple fixed factor filters in [this tutorial](https://gcm-filters.readthedocs.io/en/latest/tutorial_filter_types.html)):"
   ]
  },
  {
   "cell_type": "code",
   "execution_count": null,
   "metadata": {},
   "outputs": [],
   "source": [
    "specs = {\n",
    "    'filter_scale': 10,\n",
    "    'dx_min': 1\n",
    "    'filter_shape': gcm_filters.FilterShape.GAUSSIAN\n",
    "    'grid_type': gcm_filters.GridType.TRIPOLAR_REGULAR_WITH_LAND\n",
    "}"
   ]
  },
  {
   "cell_type": "markdown",
   "metadata": {},
   "source": [
    "We now create our CPU-compatible filter with our **NumPy**-based `wet_mask`."
   ]
  },
  {
   "cell_type": "code",
   "execution_count": null,
   "metadata": {},
   "outputs": [],
   "source": [
    "filter_cpu = gcm_filters.Filter(grid_vars={'wet_mask': wet_mask}, **specs)\n",
    "filter_cpu"
   ]
  },
  {
   "cell_type": "markdown",
   "metadata": {},
   "source": [
    "Next, we filter the **NumPy**-based `SST * area` lazily on the CPU's with the simple fixed factor filter."
   ]
  },
  {
   "cell_type": "code",
   "execution_count": null,
   "metadata": {},
   "outputs": [],
   "source": [
    "filtered_cpu = filter_cpu.apply(sst * area, dims=['nlat', 'nlon'])\n",
    "filtered_cpu = filtered_cpu / area\n",
    "filtered_cpu"
   ]
  },
  {
   "cell_type": "markdown",
   "metadata": {},
   "source": [
    "Nothing has actually been computed yet. Let's trigger computation."
   ]
  },
  {
   "cell_type": "code",
   "execution_count": null,
   "metadata": {},
   "outputs": [],
   "source": [
    "%time filtered_cpu = filtered_cpu.compute()"
   ]
  },
  {
   "cell_type": "markdown",
   "metadata": {},
   "source": [
    "Here is a comparison of unfiltered vs. filtered SST, zoomed into the Gulf Stream region."
   ]
  },
  {
   "cell_type": "code",
   "execution_count": null,
   "metadata": {},
   "outputs": [],
   "source": [
    "import matplotlib.pyplot as plt\n",
    "\n",
    "vmin = 5\n",
    "vmax = 25\n",
    "yslice = slice(1500, 1750)\n",
    "xslice = slice(400, 600)\n",
    "\n",
    "fig,axs = plt.subplots(1,2,figsize=(25,7))\n",
    "sst.isel(nlat=yslice, nlon=xslice).plot(\n",
    "    ax=axs[0], \n",
    "    vmin=vmin, vmax=vmax, \n",
    "    cbar_kwargs={'label': 'degC'}\n",
    ")\n",
    "axs[0].set_title('SST', fontsize=18)\n",
    "filtered_cpu.isel(nlat=yslice, nlon=xslice).plot(\n",
    "    ax=axs[1], \n",
    "    vmin=vmin, vmax=vmax, \n",
    "    cbar_kwargs={'label': 'degC'}\n",
    ")\n",
    "axs[1].set_title('filtered SST (on CPU)', fontsize=18);"
   ]
  },
  {
   "cell_type": "markdown",
   "metadata": {},
   "source": [
    "## Filtering on GPUs\n",
    "\n",
    "We tell `gcm-filters` to filter on GPU's by providing a `wet_mask` and input data that are **CuPy Arrays** or **Dask Arrays with CuPy chunks**. We therefore have to map the NumPy chunks to CuPy chunks."
   ]
  },
  {
   "cell_type": "code",
   "execution_count": null,
   "metadata": {},
   "outputs": [],
   "source": [
    "import cupy as cp"
   ]
  },
  {
   "cell_type": "code",
   "execution_count": null,
   "metadata": {},
   "outputs": [],
   "source": [
    "wet_mask_gpu = wet_mask.copy()\n",
    "wet_mask_gpu.data = wet_mask_gpu.data.map_blocks(cp.asarray)\n",
    "wet_mask_gpu"
   ]
  },
  {
   "cell_type": "code",
   "execution_count": null,
   "metadata": {},
   "outputs": [],
   "source": [
    "sst_gpu = sst.copy()\n",
    "sst_gpu.data = sst_gpu.data.map_blocks(cp.asarray)\n",
    "sst_gpu"
   ]
  },
  {
   "cell_type": "code",
   "execution_count": null,
   "metadata": {},
   "outputs": [],
   "source": [
    "tarea_gpu = tarea.copy()\n",
    "tarea_gpu.data = tarea_gpu.data.map_blocks(cp.asarray)\n",
    "tarea_gpu"
   ]
  },
  {
   "cell_type": "markdown",
   "metadata": {},
   "source": [
    "We create the filter with the same filter specs as above, but now with a **CuPy**-based `wet_mask`."
   ]
  },
  {
   "cell_type": "code",
   "execution_count": null,
   "metadata": {},
   "outputs": [],
   "source": [
    "filter_gpu = gcm_filters.Filter(\n",
    "    filter_scale=filter_scale,\n",
    "    dx_min=dx_min,\n",
    "    filter_shape=filter_shape,\n",
    "    grid_type=grid_type,\n",
    "    grid_vars={'wet_mask': wet_mask_gpu}\n",
    ")\n",
    "filter_gpu"
   ]
  },
  {
   "cell_type": "markdown",
   "metadata": {},
   "source": [
    "Filtering of the data works the same way as before, except that we apply our filter to our **CuPy**-based `SST * area`."
   ]
  },
  {
   "cell_type": "code",
   "execution_count": null,
   "metadata": {},
   "outputs": [],
   "source": [
    "filtered_gpu = filter_gpu.apply(sst_gpu * tarea_gpu, dims=['nlat', 'nlon'])\n",
    "filtered_gpu = filtered_gpu / tarea_gpu\n",
    "filtered_gpu"
   ]
  },
  {
   "cell_type": "markdown",
   "metadata": {},
   "source": [
    "In the next cell, we map the CuPy blocks back to NumPy blocks."
   ]
  },
  {
   "cell_type": "code",
   "execution_count": null,
   "metadata": {},
   "outputs": [],
   "source": [
    "filtered_gpu.data = filtered_gpu.data.map_blocks(cp.asnumpy)\n",
    "filtered_gpu"
   ]
  },
  {
   "cell_type": "markdown",
   "metadata": {},
   "source": [
    "Filtering on GPU is quite a bit faster than on CPU above."
   ]
  },
  {
   "cell_type": "code",
   "execution_count": null,
   "metadata": {},
   "outputs": [],
   "source": [
    "%time filtered_gpu = filtered_gpu.compute()"
   ]
  },
  {
   "cell_type": "markdown",
   "metadata": {},
   "source": [
    "Plotting filtered SST gives the same plot as above (that's good!)."
   ]
  },
  {
   "cell_type": "code",
   "execution_count": null,
   "metadata": {},
   "outputs": [],
   "source": [
    "fig,axs = plt.subplots(1,2,figsize=(25,7))\n",
    "sst.isel(nlat=yslice, nlon=xslice).plot(\n",
    "    ax=axs[0], \n",
    "    vmin=vmin, vmax=vmax, \n",
    "    cbar_kwargs={'label': 'degC'}\n",
    ")\n",
    "axs[0].set_title('SST', fontsize=18)\n",
    "filtered_gpu.isel(nlat=yslice, nlon=xslice).plot(\n",
    "    ax=axs[1], \n",
    "    vmin=vmin, vmax=vmax, \n",
    "    cbar_kwargs={'label': 'degC'}\n",
    ")\n",
    "axs[1].set_title('filtered SST (on GPU)', fontsize=18);"
   ]
  },
  {
   "cell_type": "markdown",
   "metadata": {},
   "source": [
    "Finally, we convince ourselves that the differences in the CPU- vs. GPU-filtered fields are as small as machine precision."
   ]
  },
  {
   "cell_type": "code",
   "execution_count": null,
   "metadata": {},
   "outputs": [],
   "source": [
    "fig,axs = plt.subplots(1,2,figsize=(25,7))\n",
    "(filtered_cpu-filtered_gpu).plot(\n",
    "    ax=axs[0], \n",
    "    cbar_kwargs={'label': 'degC'}\n",
    ")\n",
    "axs[0].set_title('Difference: CPU-filtered - GPU-filtered', fontsize=18)\n",
    "(filtered_cpu-filtered_gpu).isel(nlat=yslice, nlon=xslice).plot(\n",
    "    ax=axs[1], \n",
    "    cbar_kwargs={'label': 'degC'}\n",
    ")\n",
    "axs[1].set_title('Difference in Gulf Stream region', fontsize=18);"
   ]
  }
 ],
 "metadata": {
  "kernelspec": {
   "display_name": "Python 3",
   "language": "python",
   "name": "python3"
  },
  "language_info": {
   "codemirror_mode": {
    "name": "ipython",
    "version": 3
   },
   "file_extension": ".py",
   "mimetype": "text/x-python",
   "name": "python",
   "nbconvert_exporter": "python",
   "pygments_lexer": "ipython3",
   "version": "3.7.9"
  }
 },
 "nbformat": 4,
 "nbformat_minor": 4
}
